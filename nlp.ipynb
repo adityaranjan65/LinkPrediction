{
 "cells": [
  {
   "cell_type": "code",
   "execution_count": 2,
   "metadata": {},
   "outputs": [],
   "source": [
    "from nltk.corpus import inaugural\n",
    "import string\n",
    "import operator\n",
    "import matplotlib.pyplot as plt\n",
    "from nltk.corpus import stopwords\n",
    "from nltk.stem.lancaster import LancasterStemmer\n",
    "from nltk.stem import SnowballStemmer\n",
    "lanca_stemmer = LancasterStemmer()\n",
    "sb_stemmer = SnowballStemmer(\"english\",)"
   ]
  },
  {
   "cell_type": "code",
   "execution_count": 3,
   "metadata": {},
   "outputs": [],
   "source": [
    "x=[]\n",
    "stop_words = set(stopwords.words('english'))\n",
    "k=inaugural.words('2009-Obama.txt')\n",
    "#k=[s.translate(None,string.punctuation) for s in k]\n",
    "k=[''.join(c for c in s if c not in string.punctuation) for s in k]\n",
    "for w in k:\n",
    "    if w not in stop_words: \n",
    "        x.append(w)\n",
    "\n"
   ]
  },
  {
   "cell_type": "code",
   "execution_count": 5,
   "metadata": {},
   "outputs": [
    {
     "name": "stdout",
     "output_type": "stream",
     "text": [
      "[('us', 23), ('nation', 15), ('We', 12), ('new', 11), ('america', 10), ('the', 9), ('gener', 9), ('our', 9), ('peopl', 8), ('work', 8), ('for', 8), ('must', 8), ('everi', 8), ('let', 7), ('less', 7), ('world', 7), ('prosper', 6), ('today', 6), ('and', 6), ('common', 6), ('they', 6), ('time', 6), ('cannot', 6), ('american', 5), ('god', 5), ('spirit', 5), ('seek', 5), ('power', 5), ('know', 5), ('day', 5), ('whether', 4), ('long', 4), ('word', 4), ('far', 4), ('It', 4), ('greater', 4), ('come', 4), ('father', 4), ('face', 4), ('endur', 4), ('end', 4), ('women', 4), ('moment', 4), ('govern', 4), ('remain', 4), ('crisi', 4), ('To', 4), ('carri', 4), ('thi', 4), ('job', 4), ('peac', 4), ('men', 4), ('thing', 4), ('meet', 4), ('hard', 4), ('may', 3), ('mani', 3), ('what', 3), ('age', 3), ('great', 3), ('stand', 3), ('friend', 3), ('forc', 3), ('So', 3), ('hour', 3), ('shall', 3), ('care', 3), ('children', 3), ('journey', 3), ('futur', 3), ('pass', 3), ('forward', 3), ('faith', 3), ('oath', 3), ('I', 3), ('rather', 3), ('question', 3), ('last', 3), ('but', 3), ('good', 3), ('ideal', 3), ('year', 3), ('earth', 3), ('upon', 3), ('courag', 3), ('across', 3), ('way', 3), ('freedom', 3), ('promis', 3), ('demand', 3), ('small', 3), ('old', 3), ('mind', 3), ('In', 3), ('storm', 3), ('servic', 3), ('life', 3), ('understand', 3), ('histori', 3), ('man', 3), ('hope', 3), ('economi', 3), ('say', 3), ('take', 2), ('worker', 2), ('with', 2), ('found', 2), ('defens', 2), ('wealth', 2), ('line', 2), ('born', 2), ('taken', 2), ('On', 2), ('find', 2), ('consum', 2), ('knowledg', 2), ('choic', 2), ('believ', 2), ('hatr', 2), ('qualiti', 2), ('threat', 2), ('humbl', 2), ('planet', 2), ('one', 2), ('interest', 2), ('fals', 2), ('trust', 2), ('danger', 2), ('bless', 2), ('road', 2), ('ici', 2), ('health', 2), ('blood', 2), ('build', 2), ('done', 2), ('well', 2), ('true', 2), ('countri', 2), ('success', 2), ('thank', 2), ('never', 2), ('fail', 2), ('understood', 2), ('willing', 2), ('brave', 2), ('measur', 2), ('better', 2), ('right', 2), ('restor', 2), ('depend', 2), ('use', 2), ('school', 2), ('liberti', 2), ('also', 2), ('answer', 2), ('expand', 2), ('settl', 2), ('At', 2), ('short', 2), ('mutual', 2), ('call', 2), ('eye', 2), ('join', 2), ('month', 2), ('throughout', 2), ('era', 2), ('back', 2), ('market', 2), ('these', 2), ('charter', 2), ('confid', 2), ('play', 2), ('winter', 2), ('cooper', 2), ('big', 2), ('all', 2), ('fear', 2), ('imagin', 2), ('product', 2), ('polit', 2), ('water', 2), ('advanc', 2), ('grow', 2), ('see', 2), ('watch', 2), ('chang', 2), ('extend', 2), ('path', 2), ('still', 2), ('respons', 2), ('purpos', 2), ('give', 2), ('stronger', 2), ('forth', 2), ('longer', 2), ('celebr', 2), ('birth', 2), ('part', 2), ('rememb', 2), ('where', 2), ('begin', 2), ('noth', 2), ('die', 2), ('duti', 2), ('given', 2), ('heart', 2), ('gift', 2), ('defin', 2), ('state', 2), ('often', 2), ('free', 2), ('protect', 2), ('reach', 2), ('feed', 2), ('challeng', 2), ('gather', 2), ('child', 2), ('even', 2), ('make', 2), ('earn', 2), ('As', 2), ('west', 2), ('task', 2), ('without', 2), ('yet', 2), ('toler', 2), ('travel', 2), ('war', 2), ('will', 2), ('patriot', 2), ('unit', 2), ('reaffirm', 2), ('capit', 2), ('ill', 2), ('muslim', 2), ('ambit', 2), ('someth', 2), ('mean', 2), ('like', 2), ('afford', 2), ('help', 2), ('met', 2), ('light', 2), ('place', 2), ('hand', 2), ('shape', 2), ('lower', 2), ('busi', 2), ('conflict', 2), ('might', 2), ('virtu', 2), ('enemi', 1), ('turn', 1), ('hindu', 1), ('ago', 1), ('commun', 1), ('chariti', 1), ('bold', 1), ('accept', 1), ('chosen', 1), ('falter', 1), ('tide', 1), ('violenc', 1), ('indic', 1), ('iraq', 1), ('subject', 1), ('ye', 1), ('rule', 1), ('seiz', 1), ('fellow', 1), ('shutter', 1), ('globe', 1), ('land', 1), ('memori', 1), ('suffer', 1), ('consequ', 1), ('warm', 1), ('terror', 1), ('slaughter', 1), ('gratitud', 1), ('bind', 1), ('tank', 1), ('obscur', 1), ('preciou', 1), ('dark', 1), ('snow', 1), ('sahn', 1), ('read', 1), ('energi', 1), ('tirelessli', 1), ('decid', 1), ('intend', 1), ('labor', 1), ('huddl', 1), ('civil', 1), ('prefer', 1), ('start', 1), ('said', 1), ('grace', 1), ('earlier', 1), ('principl', 1), ('revolut', 1), ('declin', 1), ('law', 1), ('full', 1), ('alarm', 1), ('strengthen', 1), ('presidenti', 1), ('dogma', 1), ('usher', 1), ('outlast', 1), ('raw', 1), ('digit', 1), ('rich', 1), ('fought', 1), ('worldli', 1), ('decent', 1), ('creed', 1), ('ground', 1), ('peril', 1), ('wonder', 1), ('four', 1), ('legaci', 1), ('dissolv', 1), ('charact', 1), ('just', 1), ('unmatch', 1), ('wage', 1), ('determin', 1), ('band', 1), ('poor', 1), ('aim', 1), ('nobl', 1), ('mall', 1), ('flow', 1), ('cynic', 1), ('could', 1), ('home', 1), ('darkest', 1), ('worn', 1), ('scienc', 1), ('commerc', 1), ('foundat', 1), ('campfir', 1), ('began', 1), ('nor', 1), ('sum', 1), ('gettysburg', 1), ('fascism', 1), ('soil', 1), ('manag', 1), ('guardian', 1), ('fist', 1), ('outsid', 1), ('curios', 1), ('factori', 1), ('shortcut', 1), ('restraint', 1), ('destroy', 1), ('appli', 1), ('nag', 1), ('rise', 1), ('kind', 1), ('their', 1), ('those', 1), ('depth', 1), ('dust', 1), ('control', 1), ('ancestor', 1), ('shore', 1), ('smoke', 1), ('patchwork', 1), ('firm', 1), ('price', 1), ('side', 1), ('fair', 1), ('everywher', 1), ('alway', 1), ('scarc', 1), ('program', 1), ('bestow', 1), ('broken', 1), ('scale', 1), ('serv', 1), ('destini', 1), ('growth', 1), ('plan', 1), ('pat', 1), ('defeat', 1), ('famili', 1), ('innoc', 1), ('wrong', 1), ('gross', 1), ('told', 1), ('grievanc', 1), ('lost', 1), ('run', 1), ('bush', 1), ('hardship', 1), ('foe', 1), ('safeti', 1), ('sourc', 1), ('discord', 1), ('bridg', 1), ('stranger', 1), ('opportun', 1), ('bad', 1), ('satisfi', 1), ('loyalti', 1), ('race', 1), ('silenc', 1), ('apolog', 1), ('leav', 1), ('concord', 1), ('tast', 1), ('alongsid', 1), ('human', 1), ('fate', 1), ('decis', 1), ('keeper', 1), ('farm', 1), ('recrimin', 1), ('cut', 1), ('hungri', 1), ('swift', 1), ('capac', 1), ('enjoy', 1), ('flourish', 1), ('span', 1), ('leader', 1), ('har', 1), ('suggest', 1), ('difficult', 1), ('easili', 1), ('segreg', 1), ('petti', 1), ('nurtur', 1), ('till', 1), ('grandest', 1), ('stain', 1), ('khe', 1), ('swill', 1), ('transit', 1), ('faction', 1), ('transform', 1), ('proclaim', 1), ('univers', 1), ('return', 1), ('expedi', 1), ('chanc', 1), ('pleas', 1), ('bitter', 1), ('someday', 1), ('inhabit', 1), ('next', 1), ('threaten', 1), ('choos', 1), ('caus', 1), ('smaller', 1), ('grudgingli', 1), ('current', 1), ('childish', 1), ('sure', 1), ('scriptur', 1), ('citizen', 1), ('ocean', 1), ('recal', 1), ('saw', 1), ('recognit', 1), ('whip', 1), ('seriou', 1), ('prudent', 1), ('drawn', 1), ('pledg', 1), ('hero', 1), ('stairway', 1), ('order', 1), ('retir', 1), ('car', 1), ('reject', 1), ('leisur', 1), ('sweatshop', 1), ('instrument', 1), ('tell', 1), ('reform', 1), ('high', 1), ('habit', 1), ('safe', 1), ('sixti', 1), ('rage', 1), ('domest', 1), ('presid', 1), ('jew', 1), ('statist', 1), ('citi', 1), ('electr', 1), ('wield', 1), ('put', 1), ('sow', 1), ('alon', 1), ('starv', 1), ('much', 1), ('instead', 1), ('plow', 1), ('regard', 1), ('cloud', 1), ('whisper', 1), ('effect', 1), ('mark', 1), ('pleasur', 1), ('dollar', 1), ('strangl', 1), ('failur', 1), ('size', 1), ('readi', 1), ('individu', 1), ('held', 1), ('entitl', 1), ('emerg', 1), ('eman', 1), ('effort', 1), ('spoken', 1), ('border', 1), ('system', 1), ('necess', 1), ('wise', 1), ('heritag', 1), ('network', 1), ('tribe', 1), ('villag', 1), ('sight', 1), ('role', 1), ('distant', 1), ('around', 1), ('rais', 1), ('pack', 1), ('sacr', 1), ('irrespons', 1), ('honesti', 1), ('deceit', 1), ('non', 1), ('struggl', 1), ('leve', 1), ('rel', 1), ('woman', 1), ('outcom', 1), ('live', 1), ('parent', 1), ('sacrif', 1), ('spin', 1), ('set', 1), ('toward', 1), ('guid', 1), ('faint', 1), ('forgotten', 1), ('convict', 1), ('valu', 1), ('weaken', 1), ('maker', 1), ('surest', 1), ('forti', 1), ('fuel', 1), ('final', 1), ('magnific', 1), ('now', 1), ('asid', 1), ('sturdi', 1), ('allianc', 1), ('fix', 1), ('specter', 1), ('mountain', 1), ('temper', 1), ('weak', 1), ('humil', 1), ('pursu', 1), ('unfold', 1), ('argument', 1), ('it', 1), ('equal', 1), ('cost', 1), ('creat', 1), ('stale', 1), ('sake', 1), ('truth', 1), ('beneath', 1), ('would', 1), ('shown', 1), ('forg', 1), ('inevit', 1), ('strength', 1), ('languag', 1), ('respect', 1), ('coldest', 1), ('desert', 1), ('corrupt', 1), ('account', 1), ('former', 1), ('fame', 1), ('midst', 1), ('pick', 1), ('local', 1), ('real', 1), ('togeth', 1), ('roll', 1), ('profound', 1), ('requir', 1), ('toil', 1), ('uncertain', 1), ('look', 1), ('whose', 1), ('dignifi', 1), ('assur', 1), ('chapter', 1), ('grid', 1), ('soon', 1), ('sap', 1), ('lessen', 1), ('nuclear', 1), ('lash', 1), ('continu', 1), ('uniti', 1), ('costli', 1), ('abil', 1), ('test', 1), ('evid', 1), ('waver', 1), ('vital', 1), ('break', 1), ('afghanistan', 1), ('draft', 1), ('rout', 1), ('induc', 1), ('blame', 1), ('offic', 1), ('restaur', 1), ('act', 1), ('timeless', 1), ('sun', 1), ('came', 1), ('favor', 1), ('badli', 1), ('missil', 1), ('prepar', 1), ('generos', 1), ('colleg', 1), ('adversari', 1), ('undiminish', 1), ('remak', 1), ('that', 1), ('gladli', 1), ('consid', 1), ('quiet', 1), ('fill', 1), ('idea', 1), ('alreadi', 1), ('cultur', 1), ('unclench', 1), ('public', 1), ('horizon', 1), ('lead', 1), ('deserv', 1), ('shift', 1), ('plenti', 1), ('ask', 1), ('week', 1), ('young', 1), ('vision', 1), ('shed', 1), ('narrow', 1), ('collect', 1), ('achiev', 1), ('lay', 1), ('refus', 1), ('doer', 1), ('digniti', 1), ('secur', 1), ('firefight', 1), ('remembr', 1), ('remind', 1), ('forbear', 1), ('data', 1), ('surviv', 1), ('document', 1), ('selfless', 1), ('cling', 1), ('societi', 1), ('doubt', 1), ('embodi', 1), ('bodi', 1), ('bring', 1), ('need', 1), ('happi', 1), ('spend', 1), ('differ', 1), ('sacrific', 1), ('simpli', 1), ('taker', 1), ('possess', 1), ('search', 1), ('technolog', 1), ('indiffer', 1), ('progress', 1), ('exampl', 1), ('risk', 1), ('skill', 1), ('unpleas', 1), ('reveal', 1), ('My', 1), ('citizenship', 1), ('normandi', 1), ('precis', 1), ('rug', 1), ('dissent', 1), ('patrol', 1), ('fallen', 1), ('lose', 1), ('deliv', 1), ('grate', 1), ('abandon', 1), ('clean', 1), ('amidst', 1), ('resourc', 1), ('invent', 1), ('arlington', 1), ('honor', 1), ('bigger', 1), ('move', 1), ('greed', 1), ('christian', 1), ('base', 1), ('knew', 1), ('nourish', 1), ('judg', 1), ('wind', 1), ('ultim', 1), ('action', 1), ('reli', 1), ('lie', 1), ('river', 1)]\n"
     ]
    },
    {
     "data": {
      "text/plain": [
       "'\\nThe capital letters are reduced\\nwords ending with Y changes ends with i\\nlancaser removes a and er ent en at the ends'"
      ]
     },
     "execution_count": 5,
     "metadata": {},
     "output_type": "execute_result"
    },
    {
     "data": {
      "image/png": "[encoded data removed]",
      "text/plain": [
       "<Figure size 432x288 with 1 Axes>"
      ]
     },
     "metadata": {
      "needs_background": "light"
     },
     "output_type": "display_data"
    }
   ],
   "source": [
    "l={}\n",
    "new=[]\n",
    "new1=[]\n",
    "new2=[]\n",
    "k={}\n",
    "z=set(x)\n",
    "\n",
    "for word in z:\n",
    " \n",
    "    l[word]=x.count(word)\n",
    "#print(l)\n",
    "from nltk.stem import PorterStemmer\n",
    "ps=PorterStemmer()\n",
    "for words in x:\n",
    "    new.append(ps.stem(words))\n",
    "for words in x:\n",
    "    new1.append(lanca_stemmer.stem(words))\n",
    "\n",
    "for words in x:\n",
    "    new2.append(sb_stemmer.stem(words))\n",
    "#print(x[0:70])\n",
    "#print(new[0:70])\n",
    "#print(new1[0:70])\n",
    "#print(new2[0:70])\n",
    "#print(lanca_stemmer.stem('agenda'))\n",
    "#p=set(new)\n",
    "for w in p:\n",
    "    k[w]=new.count(w)\n",
    "plt.plot(k.values())\n",
    "#plt.xlabel(k.keys())\n",
    "k_sorted = sorted(k.items(), key=operator.itemgetter(1),reverse=True)\n",
    "del(k_sorted[0])\n",
    "print(k_sorted)\n",
    "'''\n",
    "The capital letters are reduced\n",
    "words ending with Y changes ends with i\n",
    "lancaser removes a and er ent en at the ends'''\n"
   ]
  },
  {
   "cell_type": "code",
   "execution_count": null,
   "metadata": {},
   "outputs": [],
   "source": []
  }
 ],
 "metadata": {
  "kernelspec": {
   "display_name": "Python 3",
   "language": "python",
   "name": "python3"
  },
  "language_info": {
   "codemirror_mode": {
    "name": "ipython",
    "version": 3
   },
   "file_extension": ".py",
   "mimetype": "text/x-python",
   "name": "python",
   "nbconvert_exporter": "python",
   "pygments_lexer": "ipython3",
   "version": "3.6.8"
  },
  "widgets": {
   "state": {},
   "version": "1.1.2"
  }
 },
 "nbformat": 4,
 "nbformat_minor": 2
}
